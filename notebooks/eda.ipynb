{
 "cells": [
  {
   "cell_type": "markdown",
   "metadata": {
    "cell_id": "dea50a85adce443584ffb42b3efa546f",
    "deepnote_cell_type": "markdown"
   },
   "source": [
    "# Explanatory Data Analysis on UCF Parking Garage Data"
   ]
  },
  {
   "cell_type": "markdown",
   "metadata": {
    "cell_id": "e33a18bf99fb45fd9732a2c0f40a47ef",
    "deepnote_cell_type": "markdown"
   },
   "source": [
    "## Table of Contents\n",
    "\n",
    "1. [**Introduction**](#1)\n",
    "    - Project Description\n",
    "    - Data Description\n",
    "2. [**Acquiring and Loading Data**](#2)\n",
    "\t- Importing Libraries and Notebook Setup\n",
    "    - Loading Data\n",
    "    - Basic Data Exploration\n",
    "    - Areas to Fix\n",
    "3. [**Data Proprocessing**](#3)\n",
    "4. [**Data Analysis**](#4)\n",
    "5. [**Conclusion**](#5)\n",
    "    - Insights\n",
    "    - Suggestions\n",
    "    - Possible Next Steps\n",
    "6. [**Epilogue**](#6) \n",
    "    - References\n",
    "    - Versioning"
   ]
  },
  {
   "cell_type": "markdown",
   "metadata": {
    "cell_id": "27427f016f404aea882fb641b271af6d",
    "deepnote_cell_type": "markdown"
   },
   "source": [
    "---"
   ]
  },
  {
   "cell_type": "markdown",
   "metadata": {
    "cell_id": "4940223da4824d19ae71f85419acc1f2",
    "deepnote_cell_type": "markdown"
   },
   "source": [
    "# 1"
   ]
  },
  {
   "cell_type": "markdown",
   "metadata": {
    "cell_id": "0c9dd6d13705490d95c05a558a431682",
    "deepnote_cell_type": "markdown"
   },
   "source": [
    "## Introduction\n",
    "\n",
    "### Project Description\n",
    "\n",
    "**Goal/Purpose:** \n",
    "\n",
    "This project, parkUCF, aims to facilitate student parking at the University of Central Florida's parking garages. The objective is to deploy an application that leverages machine learning predictions to display information and insights to students regarding the expected garage occupancy for the day. This notebook will outline and document the process of explanatory data analysis, and its findings will be instrumental to the completion of parkUCF.\n",
    "\n",
    "<p>&nbsp;</p>\n",
    "\n",
    "**Questions to be Answered:**\n",
    "\n",
    "- Do time formatting issues cause problems in the dataset?\n",
    "- What are the busiest and least busy garages and days of the week?\n",
    "- How similar are occupancy trends from day to day?\n",
    "\n",
    "<p>&nbsp;</p>\n",
    "\n",
    "**Assumptions/Methodology/Scope:** \n",
    "\n",
    "Assumptions:\n",
    "\n",
    "- All timestamps are timezone-aware/in UTC\n",
    "- The device which scans license plates returns accurate vehicle counts\n",
    "- The number of occupied spots represents the number of vehicles inside the garage\n",
    "\n",
    "Methodology/processing steps:\n",
    "\n",
    "- Data inspection, cleaning and preprocessing\n",
    "- Multivariate analysis\n",
    "- Feature engineering\n",
    "- Visualization\n",
    "\n",
    "Scope:\n",
    "\n",
    "- Exploring and understanding the dataset\n",
    "- Only the data provided is analyzed\n",
    "\n",
    "<p>&nbsp;</p>\n",
    "\n",
    "### Data Description\n",
    "\n",
    "**Content:** \n",
    "\n",
    "This dataset is a JSON file of 25989 data points which contains parking garage data from 5 UCF parking garages (garages A, B, C, D, and H). \n",
    "\n",
    "<p>&nbsp;</p>\n",
    "\n",
    "**Description of Attributes:** \n",
    "\n",
    "Here you can describe what each column represents.\n",
    "\n",
    "| Column  | Description |\n",
    "| :------ | :---------- |\n",
    "| name    | Name of the garage|\n",
    "|available| total - amount of vehicles in garage|\n",
    "|occupied | Amount of vehicles in garage|\n",
    "|total    | Total amount of spots in garage |\n",
    "|occupancy_rate|occupied/available|\n",
    "|event_reserved|Amount of spots reserved for an event|\n",
    "|event_name|The name of the event|\n",
    "|timestamp| The timestamp in UTC of the datapoint|\n",
    "\n",
    "<p>&nbsp;</p>"
   ]
  },
  {
   "cell_type": "markdown",
   "metadata": {
    "cell_id": "902dd7f04d87465ebaa929248fbc8aae",
    "deepnote_cell_type": "markdown"
   },
   "source": [
    "---"
   ]
  },
  {
   "cell_type": "markdown",
   "metadata": {
    "cell_id": "8fa36344d6a84f0390d36693adb9255b",
    "deepnote_cell_type": "markdown"
   },
   "source": [
    "# 2"
   ]
  },
  {
   "cell_type": "markdown",
   "metadata": {
    "cell_id": "66ecdc87fd09411e988c940de5fe5003",
    "deepnote_cell_type": "markdown"
   },
   "source": [
    "## Acquiring and Loading Data\n",
    "### Importing Libraries and Notebook Setup"
   ]
  },
  {
   "cell_type": "code",
   "execution_count": 2,
   "metadata": {
    "cell_id": "7652fdf0134f4d6091689d0ca0fdf2e5",
    "deepnote_cell_type": "code",
    "deepnote_to_be_reexecuted": false,
    "execution_millis": 1489,
    "execution_start": 1684082032937,
    "source_hash": "ab774905"
   },
   "outputs": [],
   "source": [
    "# Data manipulation\n",
    "import datetime\n",
    "import numpy as np\n",
    "import pandas as pd\n",
    "import pandas.api.types as ptypes\n",
    "from skimpy import skim, clean_columns\n",
    "\n",
    "# Visualizations\n",
    "import matplotlib.pyplot as plt\n",
    "import seaborn as sns\n",
    "%matplotlib inline\n",
    "\n",
    "# Pandas settings\n",
    "pd.options.display.max_columns = None\n",
    "pd.options.display.max_colwidth = 60\n",
    "pd.options.display.float_format = '{:,.3f}'.format\n",
    "\n",
    "# Visualization settings\n",
    "from matplotlib import rcParams\n",
    "plt.style.use('fivethirtyeight')\n",
    "rcParams['figure.figsize'] = (16, 5)   \n",
    "rcParams['axes.spines.right'] = False\n",
    "rcParams['axes.spines.top'] = False\n",
    "rcParams['font.size'] = 12\n",
    "# rcParams['figure.dpi'] = 300\n",
    "rcParams['savefig.dpi'] = 300\n",
    "plt.rc('xtick', labelsize=11)\n",
    "plt.rc('ytick', labelsize=11)\n",
    "custom_palette = ['#003f5c', '#444e86', '#955196', '#dd5182', '#ff6e54', '#ffa600']\n",
    "custom_hue = ['#004c6d', '#346888', '#5886a5', '#7aa6c2', '#9dc6e0', '#c1e7ff']\n",
    "custom_divergent = ['#00876c', '#6aaa96', '#aecdc2', '#f1f1f1', '#f0b8b8', '#e67f83', '#d43d51']\n",
    "sns.set_palette(custom_palette)\n",
    "%config InlineBackend.figure_format = 'retina'"
   ]
  },
  {
   "cell_type": "markdown",
   "metadata": {
    "cell_id": "5a64877afc224dccbfb11b10f59221fd",
    "deepnote_cell_type": "markdown"
   },
   "source": [
    "### Loading Data"
   ]
  },
  {
   "cell_type": "code",
   "execution_count": 3,
   "metadata": {
    "cell_id": "310231887a074cabb1ba7abea7b991bf",
    "deepnote_cell_type": "code",
    "deepnote_to_be_reexecuted": false,
    "execution_millis": 1,
    "execution_start": 1684082034439,
    "source_hash": "2a9d8eee"
   },
   "outputs": [],
   "source": [
    "df = pd.read_json(\"../data/raw/parking_data.json\")"
   ]
  },
  {
   "cell_type": "markdown",
   "metadata": {
    "cell_id": "02108a7965a64b57992d9db3eb1e23a1",
    "deepnote_cell_type": "markdown"
   },
   "source": [
    "### Basic Data Exploration"
   ]
  },
  {
   "cell_type": "code",
   "execution_count": 4,
   "metadata": {
    "cell_id": "9d82f0ae9afa46f394b3bad6a6360113",
    "deepnote_cell_type": "code",
    "deepnote_to_be_reexecuted": false,
    "execution_millis": 6,
    "execution_start": 1684082034442,
    "source_hash": "b2061493"
   },
   "outputs": [
    {
     "name": "stdout",
     "output_type": "stream",
     "text": [
      "Rows count: 26799\n",
      "Columns count: 8\n"
     ]
    }
   ],
   "source": [
    "print(f\"Rows count: {df.shape[0]}\\nColumns count: {df.shape[1]}\")"
   ]
  },
  {
   "cell_type": "code",
   "execution_count": 5,
   "metadata": {
    "cell_id": "a82fce9bd2f443509252ca7620379aa5",
    "deepnote_cell_type": "code",
    "deepnote_to_be_reexecuted": false,
    "execution_millis": 30,
    "execution_start": 1684082034452,
    "source_hash": "f584530c"
   },
   "outputs": [
    {
     "data": {
      "text/html": [
       "<div>\n",
       "<style scoped>\n",
       "    .dataframe tbody tr th:only-of-type {\n",
       "        vertical-align: middle;\n",
       "    }\n",
       "\n",
       "    .dataframe tbody tr th {\n",
       "        vertical-align: top;\n",
       "    }\n",
       "\n",
       "    .dataframe thead th {\n",
       "        text-align: right;\n",
       "    }\n",
       "</style>\n",
       "<table border=\"1\" class=\"dataframe\">\n",
       "  <thead>\n",
       "    <tr style=\"text-align: right;\">\n",
       "      <th></th>\n",
       "      <th>name</th>\n",
       "      <th>available</th>\n",
       "      <th>occupied</th>\n",
       "      <th>total</th>\n",
       "      <th>occupancy_rate</th>\n",
       "      <th>timestamp</th>\n",
       "      <th>event_reserved</th>\n",
       "      <th>event_name</th>\n",
       "    </tr>\n",
       "  </thead>\n",
       "  <tbody>\n",
       "    <tr>\n",
       "      <th>0</th>\n",
       "      <td>Garage A</td>\n",
       "      <td>1647</td>\n",
       "      <td>0</td>\n",
       "      <td>1647</td>\n",
       "      <td>0.000</td>\n",
       "      <td>2025-09-22 01:45:17.937</td>\n",
       "      <td>NaN</td>\n",
       "      <td>NaN</td>\n",
       "    </tr>\n",
       "    <tr>\n",
       "      <th>1</th>\n",
       "      <td>Garage B</td>\n",
       "      <td>1289</td>\n",
       "      <td>0</td>\n",
       "      <td>1289</td>\n",
       "      <td>0.000</td>\n",
       "      <td>2025-09-22 01:45:17.937</td>\n",
       "      <td>NaN</td>\n",
       "      <td>NaN</td>\n",
       "    </tr>\n",
       "    <tr>\n",
       "      <th>2</th>\n",
       "      <td>Garage C</td>\n",
       "      <td>1852</td>\n",
       "      <td>0</td>\n",
       "      <td>1852</td>\n",
       "      <td>0.000</td>\n",
       "      <td>2025-09-22 01:45:17.937</td>\n",
       "      <td>NaN</td>\n",
       "      <td>NaN</td>\n",
       "    </tr>\n",
       "    <tr>\n",
       "      <th>3</th>\n",
       "      <td>Garage H</td>\n",
       "      <td>1340</td>\n",
       "      <td>0</td>\n",
       "      <td>1340</td>\n",
       "      <td>0.000</td>\n",
       "      <td>2025-09-22 01:45:17.937</td>\n",
       "      <td>NaN</td>\n",
       "      <td>NaN</td>\n",
       "    </tr>\n",
       "    <tr>\n",
       "      <th>4</th>\n",
       "      <td>Garage A</td>\n",
       "      <td>1647</td>\n",
       "      <td>0</td>\n",
       "      <td>1647</td>\n",
       "      <td>0.000</td>\n",
       "      <td>2025-09-22 01:47:17.570</td>\n",
       "      <td>NaN</td>\n",
       "      <td>NaN</td>\n",
       "    </tr>\n",
       "  </tbody>\n",
       "</table>\n",
       "</div>"
      ],
      "text/plain": [
       "       name  available  occupied  total  occupancy_rate  \\\n",
       "0  Garage A       1647         0   1647           0.000   \n",
       "1  Garage B       1289         0   1289           0.000   \n",
       "2  Garage C       1852         0   1852           0.000   \n",
       "3  Garage H       1340         0   1340           0.000   \n",
       "4  Garage A       1647         0   1647           0.000   \n",
       "\n",
       "                timestamp  event_reserved event_name  \n",
       "0 2025-09-22 01:45:17.937             NaN        NaN  \n",
       "1 2025-09-22 01:45:17.937             NaN        NaN  \n",
       "2 2025-09-22 01:45:17.937             NaN        NaN  \n",
       "3 2025-09-22 01:45:17.937             NaN        NaN  \n",
       "4 2025-09-22 01:47:17.570             NaN        NaN  "
      ]
     },
     "execution_count": 5,
     "metadata": {},
     "output_type": "execute_result"
    }
   ],
   "source": [
    "df.head()"
   ]
  },
  {
   "cell_type": "code",
   "execution_count": 6,
   "metadata": {
    "cell_id": "c3685e4ca2a743c68263bf5e4c617073",
    "deepnote_cell_type": "code",
    "deepnote_to_be_reexecuted": false,
    "execution_millis": 45,
    "execution_start": 1684082034454,
    "source_hash": "c2c74a05"
   },
   "outputs": [
    {
     "data": {
      "text/html": [
       "<div>\n",
       "<style scoped>\n",
       "    .dataframe tbody tr th:only-of-type {\n",
       "        vertical-align: middle;\n",
       "    }\n",
       "\n",
       "    .dataframe tbody tr th {\n",
       "        vertical-align: top;\n",
       "    }\n",
       "\n",
       "    .dataframe thead th {\n",
       "        text-align: right;\n",
       "    }\n",
       "</style>\n",
       "<table border=\"1\" class=\"dataframe\">\n",
       "  <thead>\n",
       "    <tr style=\"text-align: right;\">\n",
       "      <th></th>\n",
       "      <th>name</th>\n",
       "      <th>available</th>\n",
       "      <th>occupied</th>\n",
       "      <th>total</th>\n",
       "      <th>occupancy_rate</th>\n",
       "      <th>timestamp</th>\n",
       "      <th>event_reserved</th>\n",
       "      <th>event_name</th>\n",
       "    </tr>\n",
       "  </thead>\n",
       "  <tbody>\n",
       "    <tr>\n",
       "      <th>26794</th>\n",
       "      <td>Garage A</td>\n",
       "      <td>1399</td>\n",
       "      <td>248</td>\n",
       "      <td>1647</td>\n",
       "      <td>0.151</td>\n",
       "      <td>2025-10-01 02:07:16.732</td>\n",
       "      <td>0.000</td>\n",
       "      <td>None</td>\n",
       "    </tr>\n",
       "    <tr>\n",
       "      <th>26795</th>\n",
       "      <td>Garage B</td>\n",
       "      <td>1289</td>\n",
       "      <td>0</td>\n",
       "      <td>1289</td>\n",
       "      <td>0.000</td>\n",
       "      <td>2025-10-01 02:07:16.732</td>\n",
       "      <td>0.000</td>\n",
       "      <td>None</td>\n",
       "    </tr>\n",
       "    <tr>\n",
       "      <th>26796</th>\n",
       "      <td>Garage C</td>\n",
       "      <td>1789</td>\n",
       "      <td>63</td>\n",
       "      <td>1852</td>\n",
       "      <td>0.034</td>\n",
       "      <td>2025-10-01 02:07:16.732</td>\n",
       "      <td>0.000</td>\n",
       "      <td>None</td>\n",
       "    </tr>\n",
       "    <tr>\n",
       "      <th>26797</th>\n",
       "      <td>Garage D</td>\n",
       "      <td>680</td>\n",
       "      <td>599</td>\n",
       "      <td>1289</td>\n",
       "      <td>0.465</td>\n",
       "      <td>2025-10-01 02:07:16.732</td>\n",
       "      <td>0.000</td>\n",
       "      <td>None</td>\n",
       "    </tr>\n",
       "    <tr>\n",
       "      <th>26798</th>\n",
       "      <td>Garage H</td>\n",
       "      <td>1340</td>\n",
       "      <td>0</td>\n",
       "      <td>1340</td>\n",
       "      <td>0.000</td>\n",
       "      <td>2025-10-01 02:07:16.732</td>\n",
       "      <td>0.000</td>\n",
       "      <td>None</td>\n",
       "    </tr>\n",
       "  </tbody>\n",
       "</table>\n",
       "</div>"
      ],
      "text/plain": [
       "           name  available  occupied  total  occupancy_rate  \\\n",
       "26794  Garage A       1399       248   1647           0.151   \n",
       "26795  Garage B       1289         0   1289           0.000   \n",
       "26796  Garage C       1789        63   1852           0.034   \n",
       "26797  Garage D        680       599   1289           0.465   \n",
       "26798  Garage H       1340         0   1340           0.000   \n",
       "\n",
       "                    timestamp  event_reserved event_name  \n",
       "26794 2025-10-01 02:07:16.732           0.000       None  \n",
       "26795 2025-10-01 02:07:16.732           0.000       None  \n",
       "26796 2025-10-01 02:07:16.732           0.000       None  \n",
       "26797 2025-10-01 02:07:16.732           0.000       None  \n",
       "26798 2025-10-01 02:07:16.732           0.000       None  "
      ]
     },
     "execution_count": 6,
     "metadata": {},
     "output_type": "execute_result"
    }
   ],
   "source": [
    "df.tail()"
   ]
  },
  {
   "cell_type": "markdown",
   "metadata": {
    "cell_id": "7274c5c9b3ae440fb8a2a8858ef6d27f",
    "deepnote_cell_type": "markdown"
   },
   "source": [
    "#### Check Data Types"
   ]
  },
  {
   "cell_type": "code",
   "execution_count": 7,
   "metadata": {
    "cell_id": "ffc9ed41bd8e4957af514b3d9f9a8986",
    "deepnote_cell_type": "code",
    "deepnote_to_be_reexecuted": false,
    "execution_millis": 19,
    "execution_start": 1684082034480,
    "source_hash": "411bda3e"
   },
   "outputs": [
    {
     "name": "stdout",
     "output_type": "stream",
     "text": [
      "<class 'pandas.core.frame.DataFrame'>\n",
      "RangeIndex: 26799 entries, 0 to 26798\n",
      "Data columns (total 8 columns):\n",
      " #   Column          Non-Null Count  Dtype         \n",
      "---  ------          --------------  -----         \n",
      " 0   name            26799 non-null  object        \n",
      " 1   available       26799 non-null  int64         \n",
      " 2   occupied        26799 non-null  int64         \n",
      " 3   total           26799 non-null  int64         \n",
      " 4   occupancy_rate  26799 non-null  float64       \n",
      " 5   timestamp       26799 non-null  datetime64[ns]\n",
      " 6   event_reserved  20196 non-null  float64       \n",
      " 7   event_name      1241 non-null   object        \n",
      "dtypes: datetime64[ns](1), float64(2), int64(3), object(2)\n",
      "memory usage: 1.6+ MB\n"
     ]
    }
   ],
   "source": [
    "df.info()"
   ]
  },
  {
   "cell_type": "markdown",
   "metadata": {
    "cell_id": "7f762cd850bf4a5899692d37dce3bfe4",
    "deepnote_cell_type": "markdown"
   },
   "source": [
    "- `name`,`event_name` are **strings**.\n",
    "- `available`, `occupied`, `total`, `event_reserved` are **integers**.\n",
    "- `occupancy_rate` is a **float**.\n",
    "- `timestamp` is a **datetime** object."
   ]
  },
  {
   "cell_type": "markdown",
   "metadata": {
    "cell_id": "4d97dcf425544595846e23c0c3e57637",
    "deepnote_cell_type": "markdown"
   },
   "source": [
    "#### Check Missing Data"
   ]
  },
  {
   "cell_type": "code",
   "execution_count": 8,
   "metadata": {
    "cell_id": "37050f70f0334425868db3e02d515659",
    "deepnote_cell_type": "code",
    "deepnote_to_be_reexecuted": false,
    "execution_millis": 19,
    "execution_start": 1684082034480,
    "source_hash": "7d2008df"
   },
   "outputs": [
    {
     "name": "stdout",
     "output_type": "stream",
     "text": [
      "---- Percentage of Missing Values (%) -----\n",
      "event_name       95.369\n",
      "event_reserved   24.639\n",
      "dtype: float64\n"
     ]
    }
   ],
   "source": [
    "missing_percent = df.isna().mean().sort_values(ascending=False)\n",
    "print('---- Percentage of Missing Values (%) -----')\n",
    "if missing_percent.sum():\n",
    "    print(missing_percent[missing_percent > 0] * 100)\n",
    "else:\n",
    "    print('None')"
   ]
  },
  {
   "cell_type": "markdown",
   "metadata": {
    "cell_id": "788f50114ef74753bf9a47386517d95f",
    "deepnote_cell_type": "markdown"
   },
   "source": [
    "#### Check for Duplicate Rows"
   ]
  },
  {
   "cell_type": "code",
   "execution_count": 9,
   "metadata": {
    "cell_id": "2f173b2cfa29432bb073a029b773219e",
    "deepnote_cell_type": "code",
    "deepnote_to_be_reexecuted": false,
    "execution_millis": 19,
    "execution_start": 1684082034480,
    "source_hash": "d799c3f4"
   },
   "outputs": [
    {
     "name": "stdout",
     "output_type": "stream",
     "text": [
      "No. of entirely duplicated rows: 1618\n"
     ]
    },
    {
     "data": {
      "text/html": [
       "<div>\n",
       "<style scoped>\n",
       "    .dataframe tbody tr th:only-of-type {\n",
       "        vertical-align: middle;\n",
       "    }\n",
       "\n",
       "    .dataframe tbody tr th {\n",
       "        vertical-align: top;\n",
       "    }\n",
       "\n",
       "    .dataframe thead th {\n",
       "        text-align: right;\n",
       "    }\n",
       "</style>\n",
       "<table border=\"1\" class=\"dataframe\">\n",
       "  <thead>\n",
       "    <tr style=\"text-align: right;\">\n",
       "      <th></th>\n",
       "      <th>name</th>\n",
       "      <th>available</th>\n",
       "      <th>occupied</th>\n",
       "      <th>total</th>\n",
       "      <th>occupancy_rate</th>\n",
       "      <th>timestamp</th>\n",
       "      <th>event_reserved</th>\n",
       "      <th>event_name</th>\n",
       "    </tr>\n",
       "  </thead>\n",
       "  <tbody>\n",
       "    <tr>\n",
       "      <th>403</th>\n",
       "      <td>Garage A</td>\n",
       "      <td>1636</td>\n",
       "      <td>11</td>\n",
       "      <td>1647</td>\n",
       "      <td>0.007</td>\n",
       "      <td>2025-09-22 10:53:16.563</td>\n",
       "      <td>NaN</td>\n",
       "      <td>NaN</td>\n",
       "    </tr>\n",
       "    <tr>\n",
       "      <th>404</th>\n",
       "      <td>Garage B</td>\n",
       "      <td>1118</td>\n",
       "      <td>171</td>\n",
       "      <td>1289</td>\n",
       "      <td>0.133</td>\n",
       "      <td>2025-09-22 10:53:16.563</td>\n",
       "      <td>NaN</td>\n",
       "      <td>NaN</td>\n",
       "    </tr>\n",
       "    <tr>\n",
       "      <th>405</th>\n",
       "      <td>Garage C</td>\n",
       "      <td>1823</td>\n",
       "      <td>29</td>\n",
       "      <td>1852</td>\n",
       "      <td>0.016</td>\n",
       "      <td>2025-09-22 10:53:16.563</td>\n",
       "      <td>NaN</td>\n",
       "      <td>NaN</td>\n",
       "    </tr>\n",
       "    <tr>\n",
       "      <th>406</th>\n",
       "      <td>Garage D</td>\n",
       "      <td>1270</td>\n",
       "      <td>9</td>\n",
       "      <td>1289</td>\n",
       "      <td>0.007</td>\n",
       "      <td>2025-09-22 10:53:16.563</td>\n",
       "      <td>NaN</td>\n",
       "      <td>NaN</td>\n",
       "    </tr>\n",
       "    <tr>\n",
       "      <th>407</th>\n",
       "      <td>Garage H</td>\n",
       "      <td>1225</td>\n",
       "      <td>115</td>\n",
       "      <td>1340</td>\n",
       "      <td>0.086</td>\n",
       "      <td>2025-09-22 10:53:16.563</td>\n",
       "      <td>NaN</td>\n",
       "      <td>NaN</td>\n",
       "    </tr>\n",
       "    <tr>\n",
       "      <th>...</th>\n",
       "      <td>...</td>\n",
       "      <td>...</td>\n",
       "      <td>...</td>\n",
       "      <td>...</td>\n",
       "      <td>...</td>\n",
       "      <td>...</td>\n",
       "      <td>...</td>\n",
       "      <td>...</td>\n",
       "    </tr>\n",
       "    <tr>\n",
       "      <th>26614</th>\n",
       "      <td>Garage A</td>\n",
       "      <td>1312</td>\n",
       "      <td>335</td>\n",
       "      <td>1647</td>\n",
       "      <td>0.203</td>\n",
       "      <td>2025-10-01 00:53:16.762</td>\n",
       "      <td>0.000</td>\n",
       "      <td>None</td>\n",
       "    </tr>\n",
       "    <tr>\n",
       "      <th>26615</th>\n",
       "      <td>Garage B</td>\n",
       "      <td>1025</td>\n",
       "      <td>264</td>\n",
       "      <td>1289</td>\n",
       "      <td>0.205</td>\n",
       "      <td>2025-10-01 00:53:16.762</td>\n",
       "      <td>0.000</td>\n",
       "      <td>None</td>\n",
       "    </tr>\n",
       "    <tr>\n",
       "      <th>26616</th>\n",
       "      <td>Garage C</td>\n",
       "      <td>1562</td>\n",
       "      <td>290</td>\n",
       "      <td>1852</td>\n",
       "      <td>0.157</td>\n",
       "      <td>2025-10-01 00:53:16.762</td>\n",
       "      <td>0.000</td>\n",
       "      <td>None</td>\n",
       "    </tr>\n",
       "    <tr>\n",
       "      <th>26617</th>\n",
       "      <td>Garage D</td>\n",
       "      <td>637</td>\n",
       "      <td>642</td>\n",
       "      <td>1289</td>\n",
       "      <td>0.498</td>\n",
       "      <td>2025-10-01 00:53:16.762</td>\n",
       "      <td>0.000</td>\n",
       "      <td>None</td>\n",
       "    </tr>\n",
       "    <tr>\n",
       "      <th>26618</th>\n",
       "      <td>Garage H</td>\n",
       "      <td>1340</td>\n",
       "      <td>0</td>\n",
       "      <td>1340</td>\n",
       "      <td>0.000</td>\n",
       "      <td>2025-10-01 00:53:16.762</td>\n",
       "      <td>0.000</td>\n",
       "      <td>None</td>\n",
       "    </tr>\n",
       "  </tbody>\n",
       "</table>\n",
       "<p>1618 rows × 8 columns</p>\n",
       "</div>"
      ],
      "text/plain": [
       "           name  available  occupied  total  occupancy_rate  \\\n",
       "403    Garage A       1636        11   1647           0.007   \n",
       "404    Garage B       1118       171   1289           0.133   \n",
       "405    Garage C       1823        29   1852           0.016   \n",
       "406    Garage D       1270         9   1289           0.007   \n",
       "407    Garage H       1225       115   1340           0.086   \n",
       "...         ...        ...       ...    ...             ...   \n",
       "26614  Garage A       1312       335   1647           0.203   \n",
       "26615  Garage B       1025       264   1289           0.205   \n",
       "26616  Garage C       1562       290   1852           0.157   \n",
       "26617  Garage D        637       642   1289           0.498   \n",
       "26618  Garage H       1340         0   1340           0.000   \n",
       "\n",
       "                    timestamp  event_reserved event_name  \n",
       "403   2025-09-22 10:53:16.563             NaN        NaN  \n",
       "404   2025-09-22 10:53:16.563             NaN        NaN  \n",
       "405   2025-09-22 10:53:16.563             NaN        NaN  \n",
       "406   2025-09-22 10:53:16.563             NaN        NaN  \n",
       "407   2025-09-22 10:53:16.563             NaN        NaN  \n",
       "...                       ...             ...        ...  \n",
       "26614 2025-10-01 00:53:16.762           0.000       None  \n",
       "26615 2025-10-01 00:53:16.762           0.000       None  \n",
       "26616 2025-10-01 00:53:16.762           0.000       None  \n",
       "26617 2025-10-01 00:53:16.762           0.000       None  \n",
       "26618 2025-10-01 00:53:16.762           0.000       None  \n",
       "\n",
       "[1618 rows x 8 columns]"
      ]
     },
     "execution_count": 9,
     "metadata": {},
     "output_type": "execute_result"
    }
   ],
   "source": [
    "print(f\"No. of entirely duplicated rows: {df.duplicated().sum()}\")\n",
    "\n",
    "df[df.duplicated()]"
   ]
  },
  {
   "cell_type": "markdown",
   "metadata": {
    "cell_id": "bfb94e3ab9ac499890ee33260c3f9bc0",
    "deepnote_cell_type": "markdown"
   },
   "source": [
    "#### Check Uniqueness of Data"
   ]
  },
  {
   "cell_type": "code",
   "execution_count": 10,
   "metadata": {
    "cell_id": "60b40039d083454998cea78276a9a0fc",
    "deepnote_cell_type": "code",
    "deepnote_to_be_reexecuted": false,
    "execution_millis": 17,
    "execution_start": 1684082034484,
    "source_hash": "54dd3bf0"
   },
   "outputs": [
    {
     "name": "stdout",
     "output_type": "stream",
     "text": [
      "---- Percentage Similarity of Values (%) -----\n",
      "event_reserved   50.000\n",
      "event_name       33.333\n",
      "name             20.000\n",
      "total            20.000\n",
      "occupancy_rate    0.099\n",
      "occupied          0.056\n",
      "available         0.054\n",
      "timestamp         0.020\n",
      "dtype: float64\n"
     ]
    }
   ],
   "source": [
    "# Print the percentage similarity of values (the lower %, the better)\n",
    "num_unique = df.nunique().sort_values()\n",
    "print('---- Percentage Similarity of Values (%) -----')\n",
    "print(100/num_unique)"
   ]
  },
  {
   "cell_type": "markdown",
   "metadata": {
    "cell_id": "0d0a5d13fa4f45c1bd74c5c6056e85b4",
    "deepnote_cell_type": "markdown"
   },
   "source": [
    "#### Check Data Range"
   ]
  },
  {
   "cell_type": "code",
   "execution_count": 11,
   "metadata": {
    "cell_id": "ed4d093842c542bdb01e7537deb27fa9",
    "deepnote_cell_type": "code",
    "deepnote_to_be_reexecuted": false,
    "execution_millis": 15,
    "execution_start": 1684082034486,
    "source_hash": "f9954904"
   },
   "outputs": [
    {
     "data": {
      "text/html": [
       "<pre style=\"white-space:pre;overflow-x:auto;line-height:normal;font-family:Menlo,'DejaVu Sans Mono',consolas,'Courier New',monospace\">╭──────────────────────────────────────────────── skimpy summary ─────────────────────────────────────────────────╮\n",
       "│ <span style=\"font-style: italic\">         Data Summary         </span> <span style=\"font-style: italic\">      Data Types       </span>                                                          │\n",
       "│ ┏━━━━━━━━━━━━━━━━━━━┳━━━━━━━━┓ ┏━━━━━━━━━━━━━┳━━━━━━━┓                                                          │\n",
       "│ ┃<span style=\"color: #008080; text-decoration-color: #008080; font-weight: bold\"> Dataframe         </span>┃<span style=\"color: #008080; text-decoration-color: #008080; font-weight: bold\"> Values </span>┃ ┃<span style=\"color: #008080; text-decoration-color: #008080; font-weight: bold\"> Column Type </span>┃<span style=\"color: #008080; text-decoration-color: #008080; font-weight: bold\"> Count </span>┃                                                          │\n",
       "│ ┡━━━━━━━━━━━━━━━━━━━╇━━━━━━━━┩ ┡━━━━━━━━━━━━━╇━━━━━━━┩                                                          │\n",
       "│ │ Number of rows    │ 26799  │ │ int64       │ 3     │                                                          │\n",
       "│ │ Number of columns │ 8      │ │ string      │ 2     │                                                          │\n",
       "│ └───────────────────┴────────┘ │ float64     │ 2     │                                                          │\n",
       "│                                │ datetime64  │ 1     │                                                          │\n",
       "│                                └─────────────┴───────┘                                                          │\n",
       "│ <span style=\"font-style: italic\">                                                    number                                                    </span>  │\n",
       "│ ┏━━━━━━━━━━━━━━━━┳━━━━━━┳━━━━━━━━━━━━━━━━━━┳━━━━━━━━┳━━━━━━━━┳━━━━━━┳━━━━━━━┳━━━━━━━┳━━━━━━━┳━━━━━━━┳━━━━━━━━┓  │\n",
       "│ ┃<span style=\"font-weight: bold\"> column         </span>┃<span style=\"font-weight: bold\"> NA   </span>┃<span style=\"font-weight: bold\"> NA %             </span>┃<span style=\"font-weight: bold\"> mean   </span>┃<span style=\"font-weight: bold\"> sd     </span>┃<span style=\"font-weight: bold\"> p0   </span>┃<span style=\"font-weight: bold\"> p25   </span>┃<span style=\"font-weight: bold\"> p50   </span>┃<span style=\"font-weight: bold\"> p75   </span>┃<span style=\"font-weight: bold\"> p100  </span>┃<span style=\"font-weight: bold\"> hist   </span>┃  │\n",
       "│ ┡━━━━━━━━━━━━━━━━╇━━━━━━╇━━━━━━━━━━━━━━━━━━╇━━━━━━━━╇━━━━━━━━╇━━━━━━╇━━━━━━━╇━━━━━━━╇━━━━━━━╇━━━━━━━╇━━━━━━━━┩  │\n",
       "│ │ <span style=\"color: #af87ff; text-decoration-color: #af87ff\">available     </span> │ <span style=\"color: #008080; text-decoration-color: #008080\">   0</span> │ <span style=\"color: #008080; text-decoration-color: #008080\">               0</span> │ <span style=\"color: #008080; text-decoration-color: #008080\">  1007</span> │ <span style=\"color: #008080; text-decoration-color: #008080\"> 512.8</span> │ <span style=\"color: #008080; text-decoration-color: #008080\">   0</span> │ <span style=\"color: #008080; text-decoration-color: #008080\">  553</span> │ <span style=\"color: #008080; text-decoration-color: #008080\"> 1191</span> │ <span style=\"color: #008080; text-decoration-color: #008080\"> 1340</span> │ <span style=\"color: #008080; text-decoration-color: #008080\"> 1852</span> │ <span style=\"color: #008000; text-decoration-color: #008000\">▃▅▃▃▇▅</span> │  │\n",
       "│ │ <span style=\"color: #af87ff; text-decoration-color: #af87ff\">occupied      </span> │ <span style=\"color: #008080; text-decoration-color: #008080\">   0</span> │ <span style=\"color: #008080; text-decoration-color: #008080\">               0</span> │ <span style=\"color: #008080; text-decoration-color: #008080\"> 471.3</span> │ <span style=\"color: #008080; text-decoration-color: #008080\"> 501.7</span> │ <span style=\"color: #008080; text-decoration-color: #008080\">   0</span> │ <span style=\"color: #008080; text-decoration-color: #008080\">   16</span> │ <span style=\"color: #008080; text-decoration-color: #008080\">  288</span> │ <span style=\"color: #008080; text-decoration-color: #008080\">  848</span> │ <span style=\"color: #008080; text-decoration-color: #008080\"> 1876</span> │ <span style=\"color: #008000; text-decoration-color: #008000\">▇▂▂▂▁▁</span> │  │\n",
       "│ │ <span style=\"color: #af87ff; text-decoration-color: #af87ff\">total         </span> │ <span style=\"color: #008080; text-decoration-color: #008080\">   0</span> │ <span style=\"color: #008080; text-decoration-color: #008080\">               0</span> │ <span style=\"color: #008080; text-decoration-color: #008080\">  1480</span> │ <span style=\"color: #008080; text-decoration-color: #008080\"> 225.2</span> │ <span style=\"color: #008080; text-decoration-color: #008080\">1289</span> │ <span style=\"color: #008080; text-decoration-color: #008080\"> 1289</span> │ <span style=\"color: #008080; text-decoration-color: #008080\"> 1340</span> │ <span style=\"color: #008080; text-decoration-color: #008080\"> 1647</span> │ <span style=\"color: #008080; text-decoration-color: #008080\"> 1852</span> │ <span style=\"color: #008000; text-decoration-color: #008000\">▇  ▃ ▃</span> │  │\n",
       "│ │ <span style=\"color: #af87ff; text-decoration-color: #af87ff\">occupancy_rate</span> │ <span style=\"color: #008080; text-decoration-color: #008080\">   0</span> │ <span style=\"color: #008080; text-decoration-color: #008080\">               0</span> │ <span style=\"color: #008080; text-decoration-color: #008080\">0.3171</span> │ <span style=\"color: #008080; text-decoration-color: #008080\">0.3239</span> │ <span style=\"color: #008080; text-decoration-color: #008080\">   0</span> │ <span style=\"color: #008080; text-decoration-color: #008080\">0.011</span> │ <span style=\"color: #008080; text-decoration-color: #008080\">0.191</span> │ <span style=\"color: #008080; text-decoration-color: #008080\">0.606</span> │ <span style=\"color: #008080; text-decoration-color: #008080\">1.013</span> │ <span style=\"color: #008000; text-decoration-color: #008000\">▇▁▂▂▂▁</span> │  │\n",
       "│ │ <span style=\"color: #af87ff; text-decoration-color: #af87ff\">event_reserved</span> │ <span style=\"color: #008080; text-decoration-color: #008080\">6603</span> │ <span style=\"color: #008080; text-decoration-color: #008080\">24.6389790663830</span> │ <span style=\"color: #008080; text-decoration-color: #008080\">0.4134</span> │ <span style=\"color: #008080; text-decoration-color: #008080\"> 3.188</span> │ <span style=\"color: #008080; text-decoration-color: #008080\">   0</span> │ <span style=\"color: #008080; text-decoration-color: #008080\">    0</span> │ <span style=\"color: #008080; text-decoration-color: #008080\">    0</span> │ <span style=\"color: #008080; text-decoration-color: #008080\">    0</span> │ <span style=\"color: #008080; text-decoration-color: #008080\">   25</span> │ <span style=\"color: #008000; text-decoration-color: #008000\">  ▇   </span> │  │\n",
       "│ │                │      │ <span style=\"color: #008080; text-decoration-color: #008080\">              72</span> │        │        │      │       │       │       │       │        │  │\n",
       "│ └────────────────┴──────┴──────────────────┴────────┴────────┴──────┴───────┴───────┴───────┴───────┴────────┘  │\n",
       "│ <span style=\"font-style: italic\">                                                   datetime                                                   </span>  │\n",
       "│ ┏━━━━━━━━━━━━━━━┳━━━━━━┳━━━━━━━━━┳━━━━━━━━━━━━━━━━━━━━━━━━━━━━━━┳━━━━━━━━━━━━━━━━━━━━━━━━━━━━━┳━━━━━━━━━━━━━━┓  │\n",
       "│ ┃<span style=\"font-weight: bold\"> column        </span>┃<span style=\"font-weight: bold\"> NA   </span>┃<span style=\"font-weight: bold\"> NA %    </span>┃<span style=\"font-weight: bold\"> first                        </span>┃<span style=\"font-weight: bold\"> last                        </span>┃<span style=\"font-weight: bold\"> frequency    </span>┃  │\n",
       "│ ┡━━━━━━━━━━━━━━━╇━━━━━━╇━━━━━━━━━╇━━━━━━━━━━━━━━━━━━━━━━━━━━━━━━╇━━━━━━━━━━━━━━━━━━━━━━━━━━━━━╇━━━━━━━━━━━━━━┩  │\n",
       "│ │ <span style=\"color: #af87ff; text-decoration-color: #af87ff\">timestamp    </span> │ <span style=\"color: #008080; text-decoration-color: #008080\">   0</span> │ <span style=\"color: #008080; text-decoration-color: #008080\">      0</span> │ <span style=\"color: #800000; text-decoration-color: #800000\"> 2025-09-22 01:45:17.937000 </span> │ <span style=\"color: #800000; text-decoration-color: #800000\">2025-10-01 02:07:16.732000 </span> │ <span style=\"color: #af87ff; text-decoration-color: #af87ff\">None        </span> │  │\n",
       "│ └───────────────┴──────┴─────────┴──────────────────────────────┴─────────────────────────────┴──────────────┘  │\n",
       "│ <span style=\"font-style: italic\">                                                    string                                                    </span>  │\n",
       "│ ┏━━━━━━━━━━┳━━━━━━━┳━━━━━━━━━━┳━━━━━━━━━━┳━━━━━━━━━━┳━━━━━━━━━━┳━━━━━━━━━━┳━━━━━━━━━━━┳━━━━━━━━━━┳━━━━━━━━━━━┓  │\n",
       "│ ┃<span style=\"font-weight: bold\">          </span>┃<span style=\"font-weight: bold\">       </span>┃<span style=\"font-weight: bold\">          </span>┃<span style=\"font-weight: bold\">          </span>┃<span style=\"font-weight: bold\">          </span>┃<span style=\"font-weight: bold\">          </span>┃<span style=\"font-weight: bold\">          </span>┃<span style=\"font-weight: bold\"> chars per </span>┃<span style=\"font-weight: bold\"> words    </span>┃<span style=\"font-weight: bold\"> total     </span>┃  │\n",
       "│ ┃<span style=\"font-weight: bold\"> column   </span>┃<span style=\"font-weight: bold\"> NA    </span>┃<span style=\"font-weight: bold\"> NA %     </span>┃<span style=\"font-weight: bold\"> shortest </span>┃<span style=\"font-weight: bold\"> longest  </span>┃<span style=\"font-weight: bold\"> min      </span>┃<span style=\"font-weight: bold\"> max      </span>┃<span style=\"font-weight: bold\"> row       </span>┃<span style=\"font-weight: bold\"> per row  </span>┃<span style=\"font-weight: bold\"> words     </span>┃  │\n",
       "│ ┡━━━━━━━━━━╇━━━━━━━╇━━━━━━━━━━╇━━━━━━━━━━╇━━━━━━━━━━╇━━━━━━━━━━╇━━━━━━━━━━╇━━━━━━━━━━━╇━━━━━━━━━━╇━━━━━━━━━━━┩  │\n",
       "│ │ <span style=\"color: #af87ff; text-decoration-color: #af87ff\">name    </span> │ <span style=\"color: #008080; text-decoration-color: #008080\">    0</span> │ <span style=\"color: #008080; text-decoration-color: #008080\">       0</span> │ <span style=\"color: #af87ff; text-decoration-color: #af87ff\">Garage A</span> │ <span style=\"color: #af87ff; text-decoration-color: #af87ff\">Garage A</span> │ <span style=\"color: #af87ff; text-decoration-color: #af87ff\">Garage A</span> │ <span style=\"color: #af87ff; text-decoration-color: #af87ff\">Garage H</span> │ <span style=\"color: #008080; text-decoration-color: #008080\">        8</span> │ <span style=\"color: #008080; text-decoration-color: #008080\">       2</span> │ <span style=\"color: #008080; text-decoration-color: #008080\">    53598</span> │  │\n",
       "│ │ <span style=\"color: #af87ff; text-decoration-color: #af87ff\">event_na</span> │ <span style=\"color: #008080; text-decoration-color: #008080\">25558</span> │ <span style=\"color: #008080; text-decoration-color: #008080\">95.36923</span> │ <span style=\"color: #af87ff; text-decoration-color: #af87ff\">Startup </span> │ <span style=\"color: #af87ff; text-decoration-color: #af87ff\">Real    </span> │ <span style=\"color: #af87ff; text-decoration-color: #af87ff\">CREOL   </span> │ <span style=\"color: #af87ff; text-decoration-color: #af87ff\">Startup </span> │ <span style=\"color: #008080; text-decoration-color: #008080\">     32.6</span> │ <span style=\"color: #008080; text-decoration-color: #008080\">    0.23</span> │ <span style=\"color: #008080; text-decoration-color: #008080\">     6110</span> │  │\n",
       "│ │ <span style=\"color: #af87ff; text-decoration-color: #af87ff\">me      </span> │       │ <span style=\"color: #008080; text-decoration-color: #008080\">01951565</span> │ <span style=\"color: #af87ff; text-decoration-color: #af87ff\">Fest    </span> │ <span style=\"color: #af87ff; text-decoration-color: #af87ff\">Estate  </span> │ <span style=\"color: #af87ff; text-decoration-color: #af87ff\">External</span> │ <span style=\"color: #af87ff; text-decoration-color: #af87ff\">Fest    </span> │           │          │           │  │\n",
       "│ │          │       │ <span style=\"color: #008080; text-decoration-color: #008080\">       3</span> │          │ <span style=\"color: #af87ff; text-decoration-color: #af87ff\">Speaking</span> │ <span style=\"color: #af87ff; text-decoration-color: #af87ff\">Board   </span> │          │           │          │           │  │\n",
       "│ │          │       │          │          │ <span style=\"color: #af87ff; text-decoration-color: #af87ff\">Engageme</span> │ <span style=\"color: #af87ff; text-decoration-color: #af87ff\">Meeting </span> │          │           │          │           │  │\n",
       "│ │          │       │          │          │ <span style=\"color: #af87ff; text-decoration-color: #af87ff\">nt (ERF </span> │ <span style=\"color: #af87ff; text-decoration-color: #af87ff\">(ERF    </span> │          │           │          │           │  │\n",
       "│ │          │       │          │          │ <span style=\"color: #af87ff; text-decoration-color: #af87ff\">6563)   </span> │ <span style=\"color: #af87ff; text-decoration-color: #af87ff\">6615)   </span> │          │           │          │           │  │\n",
       "│ └──────────┴───────┴──────────┴──────────┴──────────┴──────────┴──────────┴───────────┴──────────┴───────────┘  │\n",
       "╰────────────────────────────────────────────────────── End ──────────────────────────────────────────────────────╯\n",
       "</pre>\n"
      ],
      "text/plain": [
       "╭──────────────────────────────────────────────── skimpy summary ─────────────────────────────────────────────────╮\n",
       "│ \u001b[3m         Data Summary         \u001b[0m \u001b[3m      Data Types       \u001b[0m                                                          │\n",
       "│ ┏━━━━━━━━━━━━━━━━━━━┳━━━━━━━━┓ ┏━━━━━━━━━━━━━┳━━━━━━━┓                                                          │\n",
       "│ ┃\u001b[1;36m \u001b[0m\u001b[1;36mDataframe        \u001b[0m\u001b[1;36m \u001b[0m┃\u001b[1;36m \u001b[0m\u001b[1;36mValues\u001b[0m\u001b[1;36m \u001b[0m┃ ┃\u001b[1;36m \u001b[0m\u001b[1;36mColumn Type\u001b[0m\u001b[1;36m \u001b[0m┃\u001b[1;36m \u001b[0m\u001b[1;36mCount\u001b[0m\u001b[1;36m \u001b[0m┃                                                          │\n",
       "│ ┡━━━━━━━━━━━━━━━━━━━╇━━━━━━━━┩ ┡━━━━━━━━━━━━━╇━━━━━━━┩                                                          │\n",
       "│ │ Number of rows    │ 26799  │ │ int64       │ 3     │                                                          │\n",
       "│ │ Number of columns │ 8      │ │ string      │ 2     │                                                          │\n",
       "│ └───────────────────┴────────┘ │ float64     │ 2     │                                                          │\n",
       "│                                │ datetime64  │ 1     │                                                          │\n",
       "│                                └─────────────┴───────┘                                                          │\n",
       "│ \u001b[3m                                                    number                                                    \u001b[0m  │\n",
       "│ ┏━━━━━━━━━━━━━━━━┳━━━━━━┳━━━━━━━━━━━━━━━━━━┳━━━━━━━━┳━━━━━━━━┳━━━━━━┳━━━━━━━┳━━━━━━━┳━━━━━━━┳━━━━━━━┳━━━━━━━━┓  │\n",
       "│ ┃\u001b[1m \u001b[0m\u001b[1mcolumn        \u001b[0m\u001b[1m \u001b[0m┃\u001b[1m \u001b[0m\u001b[1mNA  \u001b[0m\u001b[1m \u001b[0m┃\u001b[1m \u001b[0m\u001b[1mNA %            \u001b[0m\u001b[1m \u001b[0m┃\u001b[1m \u001b[0m\u001b[1mmean  \u001b[0m\u001b[1m \u001b[0m┃\u001b[1m \u001b[0m\u001b[1msd    \u001b[0m\u001b[1m \u001b[0m┃\u001b[1m \u001b[0m\u001b[1mp0  \u001b[0m\u001b[1m \u001b[0m┃\u001b[1m \u001b[0m\u001b[1mp25  \u001b[0m\u001b[1m \u001b[0m┃\u001b[1m \u001b[0m\u001b[1mp50  \u001b[0m\u001b[1m \u001b[0m┃\u001b[1m \u001b[0m\u001b[1mp75  \u001b[0m\u001b[1m \u001b[0m┃\u001b[1m \u001b[0m\u001b[1mp100 \u001b[0m\u001b[1m \u001b[0m┃\u001b[1m \u001b[0m\u001b[1mhist  \u001b[0m\u001b[1m \u001b[0m┃  │\n",
       "│ ┡━━━━━━━━━━━━━━━━╇━━━━━━╇━━━━━━━━━━━━━━━━━━╇━━━━━━━━╇━━━━━━━━╇━━━━━━╇━━━━━━━╇━━━━━━━╇━━━━━━━╇━━━━━━━╇━━━━━━━━┩  │\n",
       "│ │ \u001b[38;5;141mavailable     \u001b[0m │ \u001b[36m   0\u001b[0m │ \u001b[36m               0\u001b[0m │ \u001b[36m  1007\u001b[0m │ \u001b[36m 512.8\u001b[0m │ \u001b[36m   0\u001b[0m │ \u001b[36m  553\u001b[0m │ \u001b[36m 1191\u001b[0m │ \u001b[36m 1340\u001b[0m │ \u001b[36m 1852\u001b[0m │ \u001b[32m▃▅▃▃▇▅\u001b[0m │  │\n",
       "│ │ \u001b[38;5;141moccupied      \u001b[0m │ \u001b[36m   0\u001b[0m │ \u001b[36m               0\u001b[0m │ \u001b[36m 471.3\u001b[0m │ \u001b[36m 501.7\u001b[0m │ \u001b[36m   0\u001b[0m │ \u001b[36m   16\u001b[0m │ \u001b[36m  288\u001b[0m │ \u001b[36m  848\u001b[0m │ \u001b[36m 1876\u001b[0m │ \u001b[32m▇▂▂▂▁▁\u001b[0m │  │\n",
       "│ │ \u001b[38;5;141mtotal         \u001b[0m │ \u001b[36m   0\u001b[0m │ \u001b[36m               0\u001b[0m │ \u001b[36m  1480\u001b[0m │ \u001b[36m 225.2\u001b[0m │ \u001b[36m1289\u001b[0m │ \u001b[36m 1289\u001b[0m │ \u001b[36m 1340\u001b[0m │ \u001b[36m 1647\u001b[0m │ \u001b[36m 1852\u001b[0m │ \u001b[32m▇  ▃ ▃\u001b[0m │  │\n",
       "│ │ \u001b[38;5;141moccupancy_rate\u001b[0m │ \u001b[36m   0\u001b[0m │ \u001b[36m               0\u001b[0m │ \u001b[36m0.3171\u001b[0m │ \u001b[36m0.3239\u001b[0m │ \u001b[36m   0\u001b[0m │ \u001b[36m0.011\u001b[0m │ \u001b[36m0.191\u001b[0m │ \u001b[36m0.606\u001b[0m │ \u001b[36m1.013\u001b[0m │ \u001b[32m▇▁▂▂▂▁\u001b[0m │  │\n",
       "│ │ \u001b[38;5;141mevent_reserved\u001b[0m │ \u001b[36m6603\u001b[0m │ \u001b[36m24.6389790663830\u001b[0m │ \u001b[36m0.4134\u001b[0m │ \u001b[36m 3.188\u001b[0m │ \u001b[36m   0\u001b[0m │ \u001b[36m    0\u001b[0m │ \u001b[36m    0\u001b[0m │ \u001b[36m    0\u001b[0m │ \u001b[36m   25\u001b[0m │ \u001b[32m  ▇   \u001b[0m │  │\n",
       "│ │                │      │ \u001b[36m              72\u001b[0m │        │        │      │       │       │       │       │        │  │\n",
       "│ └────────────────┴──────┴──────────────────┴────────┴────────┴──────┴───────┴───────┴───────┴───────┴────────┘  │\n",
       "│ \u001b[3m                                                   datetime                                                   \u001b[0m  │\n",
       "│ ┏━━━━━━━━━━━━━━━┳━━━━━━┳━━━━━━━━━┳━━━━━━━━━━━━━━━━━━━━━━━━━━━━━━┳━━━━━━━━━━━━━━━━━━━━━━━━━━━━━┳━━━━━━━━━━━━━━┓  │\n",
       "│ ┃\u001b[1m \u001b[0m\u001b[1mcolumn       \u001b[0m\u001b[1m \u001b[0m┃\u001b[1m \u001b[0m\u001b[1mNA  \u001b[0m\u001b[1m \u001b[0m┃\u001b[1m \u001b[0m\u001b[1mNA %   \u001b[0m\u001b[1m \u001b[0m┃\u001b[1m \u001b[0m\u001b[1mfirst                       \u001b[0m\u001b[1m \u001b[0m┃\u001b[1m \u001b[0m\u001b[1mlast                       \u001b[0m\u001b[1m \u001b[0m┃\u001b[1m \u001b[0m\u001b[1mfrequency   \u001b[0m\u001b[1m \u001b[0m┃  │\n",
       "│ ┡━━━━━━━━━━━━━━━╇━━━━━━╇━━━━━━━━━╇━━━━━━━━━━━━━━━━━━━━━━━━━━━━━━╇━━━━━━━━━━━━━━━━━━━━━━━━━━━━━╇━━━━━━━━━━━━━━┩  │\n",
       "│ │ \u001b[38;5;141mtimestamp    \u001b[0m │ \u001b[36m   0\u001b[0m │ \u001b[36m      0\u001b[0m │ \u001b[31m 2025-09-22 01:45:17.937000 \u001b[0m │ \u001b[31m2025-10-01 02:07:16.732000 \u001b[0m │ \u001b[38;5;141mNone        \u001b[0m │  │\n",
       "│ └───────────────┴──────┴─────────┴──────────────────────────────┴─────────────────────────────┴──────────────┘  │\n",
       "│ \u001b[3m                                                    string                                                    \u001b[0m  │\n",
       "│ ┏━━━━━━━━━━┳━━━━━━━┳━━━━━━━━━━┳━━━━━━━━━━┳━━━━━━━━━━┳━━━━━━━━━━┳━━━━━━━━━━┳━━━━━━━━━━━┳━━━━━━━━━━┳━━━━━━━━━━━┓  │\n",
       "│ ┃\u001b[1m          \u001b[0m┃\u001b[1m       \u001b[0m┃\u001b[1m          \u001b[0m┃\u001b[1m          \u001b[0m┃\u001b[1m          \u001b[0m┃\u001b[1m          \u001b[0m┃\u001b[1m          \u001b[0m┃\u001b[1m \u001b[0m\u001b[1mchars per\u001b[0m\u001b[1m \u001b[0m┃\u001b[1m \u001b[0m\u001b[1mwords   \u001b[0m\u001b[1m \u001b[0m┃\u001b[1m \u001b[0m\u001b[1mtotal    \u001b[0m\u001b[1m \u001b[0m┃  │\n",
       "│ ┃\u001b[1m \u001b[0m\u001b[1mcolumn  \u001b[0m\u001b[1m \u001b[0m┃\u001b[1m \u001b[0m\u001b[1mNA   \u001b[0m\u001b[1m \u001b[0m┃\u001b[1m \u001b[0m\u001b[1mNA %    \u001b[0m\u001b[1m \u001b[0m┃\u001b[1m \u001b[0m\u001b[1mshortest\u001b[0m\u001b[1m \u001b[0m┃\u001b[1m \u001b[0m\u001b[1mlongest \u001b[0m\u001b[1m \u001b[0m┃\u001b[1m \u001b[0m\u001b[1mmin     \u001b[0m\u001b[1m \u001b[0m┃\u001b[1m \u001b[0m\u001b[1mmax     \u001b[0m\u001b[1m \u001b[0m┃\u001b[1m \u001b[0m\u001b[1mrow      \u001b[0m\u001b[1m \u001b[0m┃\u001b[1m \u001b[0m\u001b[1mper row \u001b[0m\u001b[1m \u001b[0m┃\u001b[1m \u001b[0m\u001b[1mwords    \u001b[0m\u001b[1m \u001b[0m┃  │\n",
       "│ ┡━━━━━━━━━━╇━━━━━━━╇━━━━━━━━━━╇━━━━━━━━━━╇━━━━━━━━━━╇━━━━━━━━━━╇━━━━━━━━━━╇━━━━━━━━━━━╇━━━━━━━━━━╇━━━━━━━━━━━┩  │\n",
       "│ │ \u001b[38;5;141mname    \u001b[0m │ \u001b[36m    0\u001b[0m │ \u001b[36m       0\u001b[0m │ \u001b[38;5;141mGarage A\u001b[0m │ \u001b[38;5;141mGarage A\u001b[0m │ \u001b[38;5;141mGarage A\u001b[0m │ \u001b[38;5;141mGarage H\u001b[0m │ \u001b[36m        8\u001b[0m │ \u001b[36m       2\u001b[0m │ \u001b[36m    53598\u001b[0m │  │\n",
       "│ │ \u001b[38;5;141mevent_na\u001b[0m │ \u001b[36m25558\u001b[0m │ \u001b[36m95.36923\u001b[0m │ \u001b[38;5;141mStartup \u001b[0m │ \u001b[38;5;141mReal    \u001b[0m │ \u001b[38;5;141mCREOL   \u001b[0m │ \u001b[38;5;141mStartup \u001b[0m │ \u001b[36m     32.6\u001b[0m │ \u001b[36m    0.23\u001b[0m │ \u001b[36m     6110\u001b[0m │  │\n",
       "│ │ \u001b[38;5;141mme      \u001b[0m │       │ \u001b[36m01951565\u001b[0m │ \u001b[38;5;141mFest    \u001b[0m │ \u001b[38;5;141mEstate  \u001b[0m │ \u001b[38;5;141mExternal\u001b[0m │ \u001b[38;5;141mFest    \u001b[0m │           │          │           │  │\n",
       "│ │          │       │ \u001b[36m       3\u001b[0m │          │ \u001b[38;5;141mSpeaking\u001b[0m │ \u001b[38;5;141mBoard   \u001b[0m │          │           │          │           │  │\n",
       "│ │          │       │          │          │ \u001b[38;5;141mEngageme\u001b[0m │ \u001b[38;5;141mMeeting \u001b[0m │          │           │          │           │  │\n",
       "│ │          │       │          │          │ \u001b[38;5;141mnt (ERF \u001b[0m │ \u001b[38;5;141m(ERF    \u001b[0m │          │           │          │           │  │\n",
       "│ │          │       │          │          │ \u001b[38;5;141m6563)   \u001b[0m │ \u001b[38;5;141m6615)   \u001b[0m │          │           │          │           │  │\n",
       "│ └──────────┴───────┴──────────┴──────────┴──────────┴──────────┴──────────┴───────────┴──────────┴───────────┘  │\n",
       "╰────────────────────────────────────────────────────── End ──────────────────────────────────────────────────────╯\n"
      ]
     },
     "metadata": {},
     "output_type": "display_data"
    }
   ],
   "source": [
    "# Print summary statistics\n",
    "df.describe(include='all')\n",
    "skim(df)"
   ]
  },
  {
   "cell_type": "markdown",
   "metadata": {
    "cell_id": "a73ad313fe5640cc82dd2f1b9a6ea5fc",
    "deepnote_cell_type": "markdown"
   },
   "source": [
    "### Areas to Fix\n",
    "**Duplicate Rows**\n",
    "- Most 'duplicates' are most likely merely results of the occupancy rate not changing much in certain dormant periods, so no need to fix this during preprocessing\n",
    "\n",
    "**Redundant Columns**\n",
    "- `occupied`, `available`, and `total` are redundant since we've already extracted `occupancy_rate` during data extraction.\n",
    "\n",
    "**Irrelevant Columns**\n",
    "- `event_name`, `event_reserved` are missing for most of the dataset and are not needed during modeling.\n",
    "\n",
    "**Timestamp Format Inconsistency**\n",
    "- Though timestamps are consistently timezone-aware/in UTC, and despite pandas handling this gracefully (no discrepancies within dataframe), some timestamps are in ISO format while others are not. We will be using them as an all-in-one time feature for the model."
   ]
  },
  {
   "cell_type": "markdown",
   "metadata": {
    "cell_id": "a5bcbeb6e7f94451b008c8076cab7365",
    "deepnote_cell_type": "markdown"
   },
   "source": [
    "---"
   ]
  },
  {
   "cell_type": "markdown",
   "metadata": {
    "cell_id": "1c0e1aa8992949998540a19add96c70e",
    "deepnote_cell_type": "markdown"
   },
   "source": [
    "# 3"
   ]
  },
  {
   "cell_type": "markdown",
   "metadata": {
    "cell_id": "592b248d503e44b4b461ef82f9adf7a6",
    "deepnote_cell_type": "markdown"
   },
   "source": [
    "## Data Preprocessing"
   ]
  },
  {
   "cell_type": "markdown",
   "metadata": {
    "cell_id": "95cc904fc07e4bf0a727054592a9aa9c",
    "deepnote_cell_type": "markdown"
   },
   "source": [
    "### Drop Redundant Columns"
   ]
  },
  {
   "cell_type": "code",
   "execution_count": null,
   "metadata": {
    "cell_id": "2e3bea2688c749a98e17287395a6bc48",
    "deepnote_cell_type": "code",
    "deepnote_to_be_reexecuted": false,
    "execution_millis": 13,
    "execution_start": 1684082034566,
    "source_hash": "8d2cd12e"
   },
   "outputs": [],
   "source": [
    "cols_to_drop = ['occupied', 'available', 'total']\n",
    "df.drop(columns=cols_to_drop, axis=1, inplace=True)"
   ]
  },
  {
   "cell_type": "code",
   "execution_count": 13,
   "metadata": {
    "cell_id": "1f29ef15044545c5a9e5de93c7711848",
    "deepnote_cell_type": "code",
    "deepnote_to_be_reexecuted": false,
    "execution_millis": 5,
    "execution_start": 1684082034573,
    "source_hash": "99c0ca31"
   },
   "outputs": [],
   "source": [
    "assert all(col not in df.columns for col in cols_to_drop)"
   ]
  },
  {
   "cell_type": "markdown",
   "metadata": {},
   "source": [
    "### Drop Irrelevant Columns"
   ]
  },
  {
   "cell_type": "code",
   "execution_count": null,
   "metadata": {},
   "outputs": [],
   "source": [
    "cols_to_drop = ['event_name', 'event_reserved']\n",
    "df.drop(columns=cols_to_drop, axis=1, inplace=True)"
   ]
  },
  {
   "cell_type": "code",
   "execution_count": null,
   "metadata": {},
   "outputs": [],
   "source": [
    "# assert indicates preprocessing is done\n",
    "assert all(col not in df.columns for col in cols_to_drop)"
   ]
  },
  {
   "cell_type": "markdown",
   "metadata": {
    "cell_id": "b02d7025cf844a18b535f905fe727528",
    "deepnote_cell_type": "markdown"
   },
   "source": [
    "### Handling Timestamp Format Inconsistency"
   ]
  },
  {
   "cell_type": "code",
   "execution_count": null,
   "metadata": {
    "cell_id": "4f9232b5a84b4c07a5f06b6c5f860cc0",
    "deepnote_cell_type": "code",
    "deepnote_to_be_reexecuted": false,
    "execution_millis": 4,
    "execution_start": 1684082034633,
    "source_hash": "8facc333"
   },
   "outputs": [],
   "source": [
    "df['timestamp'] = pd.to_datetime(df['timestamp'])"
   ]
  },
  {
   "cell_type": "markdown",
   "metadata": {
    "cell_id": "6886b4dfc68349dba5890010a3e5c80c",
    "deepnote_cell_type": "markdown"
   },
   "source": [
    "### Feature Engineering / Transformation"
   ]
  },
  {
   "cell_type": "code",
   "execution_count": 20,
   "metadata": {
    "cell_id": "b851cbd85c7141ea8a527ffb014bac37",
    "deepnote_cell_type": "code",
    "deepnote_to_be_reexecuted": false,
    "execution_millis": 4,
    "execution_start": 1684082034636,
    "source_hash": "5ca24685"
   },
   "outputs": [],
   "source": [
    "# # Get unique values of interested columns\n",
    "# cols = []\n",
    "# pd.unique(df[cols].values.ravel('k'))  # argument 'k' lists the values in the order of the cols "
   ]
  },
  {
   "cell_type": "code",
   "execution_count": 21,
   "metadata": {
    "cell_id": "144d517ea9f14287a8af6f0342df5d5c",
    "deepnote_cell_type": "code",
    "deepnote_to_be_reexecuted": false,
    "execution_millis": 1,
    "execution_start": 1684082034685,
    "source_hash": "7eb0a4cf"
   },
   "outputs": [],
   "source": [
    "# # Create custom function\n",
    "# # Google style docstrings\n",
    "# # https://sphinxcontrib-napoleon.readthedocs.io/en/latest/example_google.html\n",
    "# def custom_function(param1: int, param2: str) -> bool:\n",
    "#     \"\"\"Example function with PEP 484 type annotations.\n",
    "\n",
    "#     Args:\n",
    "#         param1: The first parameter.\n",
    "#         param2: The second parameter.\n",
    "\n",
    "#     Returns:\n",
    "#         The return value. True for success, False otherwise.\n",
    "\n",
    "#     \"\"\""
   ]
  },
  {
   "cell_type": "code",
   "execution_count": 22,
   "metadata": {
    "cell_id": "abfdcab92e2642d2b3926c8d32b06a27",
    "deepnote_cell_type": "code",
    "deepnote_to_be_reexecuted": false,
    "execution_millis": 1,
    "execution_start": 1684082034685,
    "source_hash": "2f4fd46f"
   },
   "outputs": [],
   "source": [
    "# # Apply function to multiple columns\n",
    "# cols = []\n",
    "# df_updated = df.copy()\n",
    "# df_updated[cols] = df_updated[cols].applymap(custom_function)\n",
    "\n",
    "# # Create new aggregated boolean column\n",
    "# df_updated['bool'] = df_updated[cols].any(axis=1, skipna=False)"
   ]
  },
  {
   "cell_type": "markdown",
   "metadata": {
    "cell_id": "0aa6b72e2b54435faeb0d3e59a718144",
    "deepnote_cell_type": "markdown"
   },
   "source": [
    "---"
   ]
  },
  {
   "cell_type": "markdown",
   "metadata": {
    "cell_id": "bf6fd640b9fe4be49dac37997978a636",
    "deepnote_cell_type": "markdown"
   },
   "source": [
    "# 4"
   ]
  },
  {
   "cell_type": "markdown",
   "metadata": {
    "cell_id": "04c62bb80ece4a5f905f42c5ff5fe035",
    "deepnote_cell_type": "markdown"
   },
   "source": [
    "## Data Analysis"
   ]
  },
  {
   "cell_type": "markdown",
   "metadata": {
    "cell_id": "af4161bba1184c54ae5e01e0e38e1be4",
    "deepnote_cell_type": "markdown"
   },
   "source": [
    "Here is where your analysis begins. You can add different sections based on your project goals."
   ]
  },
  {
   "cell_type": "markdown",
   "metadata": {
    "cell_id": "d33995822de34fc1bd31fce802ec9512",
    "deepnote_cell_type": "markdown"
   },
   "source": [
    "### Exploring `Column Name`"
   ]
  },
  {
   "cell_type": "code",
   "execution_count": 23,
   "metadata": {
    "cell_id": "a0799ba8c0e442b781527eb0245304ab",
    "deepnote_cell_type": "code",
    "deepnote_to_be_reexecuted": false,
    "execution_millis": 1,
    "execution_start": 1684082034685,
    "source_hash": "9ecaa010"
   },
   "outputs": [],
   "source": [
    "# Code and visualization"
   ]
  },
  {
   "cell_type": "markdown",
   "metadata": {
    "cell_id": "519d71f9a0c94ae3b52d04713680e2d0",
    "deepnote_cell_type": "markdown"
   },
   "source": [
    "**Observations**\n",
    "- Ob 1\n",
    "- Ob 2\n",
    "- Ob 3"
   ]
  },
  {
   "cell_type": "markdown",
   "metadata": {
    "cell_id": "9ed14056610a4431a33549f334ca4373",
    "deepnote_cell_type": "markdown"
   },
   "source": [
    "---"
   ]
  },
  {
   "cell_type": "markdown",
   "metadata": {
    "cell_id": "363f7d89c38d4329981494d8e46aa259",
    "deepnote_cell_type": "markdown"
   },
   "source": [
    "# 5"
   ]
  },
  {
   "cell_type": "markdown",
   "metadata": {
    "cell_id": "c50a92f03c394aa69cc435090e3f6f56",
    "deepnote_cell_type": "markdown"
   },
   "source": [
    "## Conclusion\n",
    "\n",
    "### Insights \n",
    "State the insights/outcomes of your project or notebook."
   ]
  },
  {
   "cell_type": "markdown",
   "metadata": {
    "cell_id": "49f7130037184208ae6b4fe2ec9a9268",
    "deepnote_cell_type": "markdown"
   },
   "source": [
    "### Suggestions\n",
    "\n",
    "Make suggestions based on insights."
   ]
  },
  {
   "cell_type": "markdown",
   "metadata": {
    "cell_id": "727f036ec033469780c596e0b1ddbd82",
    "deepnote_cell_type": "markdown"
   },
   "source": [
    "### Possible Next Steps\n",
    "Areas to expand on:\n",
    "- (if there is any)"
   ]
  },
  {
   "cell_type": "markdown",
   "metadata": {
    "cell_id": "44a747a8bb7d4e8faa57eb77012199c0",
    "deepnote_cell_type": "markdown"
   },
   "source": [
    "---"
   ]
  },
  {
   "cell_type": "markdown",
   "metadata": {
    "cell_id": "dd7702901c1249efb97b7686138360a1",
    "deepnote_cell_type": "markdown"
   },
   "source": [
    "# 6"
   ]
  },
  {
   "cell_type": "markdown",
   "metadata": {
    "cell_id": "3cfda3e06f4247cd810179189b9c4a00",
    "deepnote_cell_type": "markdown"
   },
   "source": [
    "## Epilogue\n",
    "\n",
    "### References\n",
    "\n",
    "This is how we use inline citation[<sup id=\"fn1-back\">[1]</sup>](#fn1).\n",
    "\n",
    "[<span id=\"fn1\">1.</span>](#fn1-back) _Author (date)._ Title. Available at: https://website.com (Accessed: Date). \n",
    "\n",
    "> Use [https://www.citethisforme.com/](https://www.citethisforme.com/) to create citations."
   ]
  },
  {
   "cell_type": "markdown",
   "metadata": {
    "cell_id": "ebb51cba0a4846cd9056b8da1caced2b",
    "deepnote_cell_type": "markdown"
   },
   "source": [
    "### Versioning\n",
    "Notebook and insights by (author).\n",
    "- Version: 1.5.0\n",
    "- Date: 2023-05-15"
   ]
  },
  {
   "cell_type": "markdown",
   "metadata": {
    "created_in_deepnote_cell": true,
    "deepnote_cell_type": "markdown"
   },
   "source": [
    "<a style='text-decoration:none;line-height:16px;display:flex;color:#5B5B62;padding:10px;justify-content:end;' href='https://deepnote.com?utm_source=created-in-deepnote-cell&projectId=b689e16b-e36c-4f8c-b17a-b3e876352669' target=\"_blank\">\n",
    "<img alt='Created in deepnote.com' style='display:inline;max-height:16px;margin:0px;margin-right:7.5px;' src='data:image/svg+xml;base64,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' > </img>\n",
    "Created in <span style='font-weight:600;margin-left:4px;'>Deepnote</span></a>"
   ]
  }
 ],
 "metadata": {
  "deepnote": {},
  "deepnote_execution_queue": [],
  "deepnote_notebook_id": "8d49e53e32e14bc390f58737ab18c268",
  "deepnote_persisted_session": {
   "createdAt": "2023-04-06T16:20:59.951Z"
  },
  "kernelspec": {
   "display_name": "venv",
   "language": "python",
   "name": "python3"
  },
  "language_info": {
   "codemirror_mode": {
    "name": "ipython",
    "version": 3
   },
   "file_extension": ".py",
   "mimetype": "text/x-python",
   "name": "python",
   "nbconvert_exporter": "python",
   "pygments_lexer": "ipython3",
   "version": "3.13.6"
  }
 },
 "nbformat": 4,
 "nbformat_minor": 0
}
